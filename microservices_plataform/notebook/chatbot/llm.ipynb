{
 "cells": [
  {
   "cell_type": "code",
   "execution_count": 1,
   "id": "158da5e8",
   "metadata": {},
   "outputs": [
    {
     "name": "stderr",
     "output_type": "stream",
     "text": [
      "\n",
      "A module that was compiled using NumPy 1.x cannot be run in\n",
      "NumPy 2.2.5 as it may crash. To support both 1.x and 2.x\n",
      "versions of NumPy, modules must be compiled with NumPy 2.0.\n",
      "Some module may need to rebuild instead e.g. with 'pybind11>=2.12'.\n",
      "\n",
      "If you are a user of the module, the easiest solution will be to\n",
      "downgrade to 'numpy<2' or try to upgrade the affected module.\n",
      "We expect that some modules will need time to support NumPy 2.\n",
      "\n",
      "Traceback (most recent call last):  File \"<frozen runpy>\", line 198, in _run_module_as_main\n",
      "  File \"<frozen runpy>\", line 88, in _run_code\n",
      "  File \"c:\\Programming\\Github\\EngenheiroIA-contra-ataca\\venv\\Lib\\site-packages\\ipykernel_launcher.py\", line 18, in <module>\n",
      "    app.launch_new_instance()\n",
      "  File \"c:\\Programming\\Github\\EngenheiroIA-contra-ataca\\venv\\Lib\\site-packages\\traitlets\\config\\application.py\", line 1075, in launch_instance\n",
      "    app.start()\n",
      "  File \"c:\\Programming\\Github\\EngenheiroIA-contra-ataca\\venv\\Lib\\site-packages\\ipykernel\\kernelapp.py\", line 739, in start\n",
      "    self.io_loop.start()\n",
      "  File \"c:\\Programming\\Github\\EngenheiroIA-contra-ataca\\venv\\Lib\\site-packages\\tornado\\platform\\asyncio.py\", line 205, in start\n",
      "    self.asyncio_loop.run_forever()\n",
      "  File \"c:\\python312\\Lib\\asyncio\\base_events.py\", line 641, in run_forever\n",
      "    self._run_once()\n",
      "  File \"c:\\python312\\Lib\\asyncio\\base_events.py\", line 1986, in _run_once\n",
      "    handle._run()\n",
      "  File \"c:\\python312\\Lib\\asyncio\\events.py\", line 88, in _run\n",
      "    self._context.run(self._callback, *self._args)\n",
      "  File \"c:\\Programming\\Github\\EngenheiroIA-contra-ataca\\venv\\Lib\\site-packages\\ipykernel\\kernelbase.py\", line 545, in dispatch_queue\n",
      "    await self.process_one()\n",
      "  File \"c:\\Programming\\Github\\EngenheiroIA-contra-ataca\\venv\\Lib\\site-packages\\ipykernel\\kernelbase.py\", line 534, in process_one\n",
      "    await dispatch(*args)\n",
      "  File \"c:\\Programming\\Github\\EngenheiroIA-contra-ataca\\venv\\Lib\\site-packages\\ipykernel\\kernelbase.py\", line 437, in dispatch_shell\n",
      "    await result\n",
      "  File \"c:\\Programming\\Github\\EngenheiroIA-contra-ataca\\venv\\Lib\\site-packages\\ipykernel\\ipkernel.py\", line 362, in execute_request\n",
      "    await super().execute_request(stream, ident, parent)\n",
      "  File \"c:\\Programming\\Github\\EngenheiroIA-contra-ataca\\venv\\Lib\\site-packages\\ipykernel\\kernelbase.py\", line 778, in execute_request\n",
      "    reply_content = await reply_content\n",
      "  File \"c:\\Programming\\Github\\EngenheiroIA-contra-ataca\\venv\\Lib\\site-packages\\ipykernel\\ipkernel.py\", line 449, in do_execute\n",
      "    res = shell.run_cell(\n",
      "  File \"c:\\Programming\\Github\\EngenheiroIA-contra-ataca\\venv\\Lib\\site-packages\\ipykernel\\zmqshell.py\", line 549, in run_cell\n",
      "    return super().run_cell(*args, **kwargs)\n",
      "  File \"c:\\Programming\\Github\\EngenheiroIA-contra-ataca\\venv\\Lib\\site-packages\\IPython\\core\\interactiveshell.py\", line 3098, in run_cell\n",
      "    result = self._run_cell(\n",
      "  File \"c:\\Programming\\Github\\EngenheiroIA-contra-ataca\\venv\\Lib\\site-packages\\IPython\\core\\interactiveshell.py\", line 3153, in _run_cell\n",
      "    result = runner(coro)\n",
      "  File \"c:\\Programming\\Github\\EngenheiroIA-contra-ataca\\venv\\Lib\\site-packages\\IPython\\core\\async_helpers.py\", line 128, in _pseudo_sync_runner\n",
      "    coro.send(None)\n",
      "  File \"c:\\Programming\\Github\\EngenheiroIA-contra-ataca\\venv\\Lib\\site-packages\\IPython\\core\\interactiveshell.py\", line 3365, in run_cell_async\n",
      "    has_raised = await self.run_ast_nodes(code_ast.body, cell_name,\n",
      "  File \"c:\\Programming\\Github\\EngenheiroIA-contra-ataca\\venv\\Lib\\site-packages\\IPython\\core\\interactiveshell.py\", line 3610, in run_ast_nodes\n",
      "    if await self.run_code(code, result, async_=asy):\n",
      "  File \"c:\\Programming\\Github\\EngenheiroIA-contra-ataca\\venv\\Lib\\site-packages\\IPython\\core\\interactiveshell.py\", line 3670, in run_code\n",
      "    exec(code_obj, self.user_global_ns, self.user_ns)\n",
      "  File \"C:\\Users\\habee\\AppData\\Local\\Temp\\ipykernel_29760\\2134595674.py\", line 1, in <module>\n",
      "    import torch\n",
      "  File \"c:\\Programming\\Github\\EngenheiroIA-contra-ataca\\venv\\Lib\\site-packages\\torch\\__init__.py\", line 1477, in <module>\n",
      "    from .functional import *  # noqa: F403\n",
      "  File \"c:\\Programming\\Github\\EngenheiroIA-contra-ataca\\venv\\Lib\\site-packages\\torch\\functional.py\", line 9, in <module>\n",
      "    import torch.nn.functional as F\n",
      "  File \"c:\\Programming\\Github\\EngenheiroIA-contra-ataca\\venv\\Lib\\site-packages\\torch\\nn\\__init__.py\", line 1, in <module>\n",
      "    from .modules import *  # noqa: F403\n",
      "  File \"c:\\Programming\\Github\\EngenheiroIA-contra-ataca\\venv\\Lib\\site-packages\\torch\\nn\\modules\\__init__.py\", line 35, in <module>\n",
      "    from .transformer import TransformerEncoder, TransformerDecoder, \\\n",
      "  File \"c:\\Programming\\Github\\EngenheiroIA-contra-ataca\\venv\\Lib\\site-packages\\torch\\nn\\modules\\transformer.py\", line 20, in <module>\n",
      "    device: torch.device = torch.device(torch._C._get_default_device()),  # torch.device('cpu'),\n",
      "c:\\Programming\\Github\\EngenheiroIA-contra-ataca\\venv\\Lib\\site-packages\\torch\\nn\\modules\\transformer.py:20: UserWarning: Failed to initialize NumPy: _ARRAY_API not found (Triggered internally at ..\\torch\\csrc\\utils\\tensor_numpy.cpp:84.)\n",
      "  device: torch.device = torch.device(torch._C._get_default_device()),  # torch.device('cpu'),\n",
      "c:\\Programming\\Github\\EngenheiroIA-contra-ataca\\venv\\Lib\\site-packages\\tqdm\\auto.py:21: TqdmWarning: IProgress not found. Please update jupyter and ipywidgets. See https://ipywidgets.readthedocs.io/en/stable/user_install.html\n",
      "  from .autonotebook import tqdm as notebook_tqdm\n"
     ]
    }
   ],
   "source": [
    "import torch\n",
    "from transformers import AutoTokenizer, AutoModelForCausalLM, BitsAndBytesConfig\n",
    "from langchain_core.language_models import LLM\n",
    "from typing import List, Optional\n",
    "\n",
    "bnb_config = BitsAndBytesConfig(\n",
    "    load_in_8bit=True\n",
    ")\n",
    "\n",
    "class Phi2LLM(LLM):\n",
    "    def __init__(self, model_name: str):\n",
    "        super().__init__()\n",
    "        self._tokenizer = AutoTokenizer.from_pretrained(model_name)\n",
    "        self._model = AutoModelForCausalLM.from_pretrained(\n",
    "            model_name,\n",
    "            quantization_config=bnb_config,   \n",
    "            device_map=\"auto\", \n",
    "            torch_dtype=torch.float16  \n",
    "        )\n",
    "\n",
    "    @property\n",
    "    def _llm_type(self) -> str:\n",
    "        return \"phi2_llm\"\n",
    "\n",
    "    def _call(self, prompt: str, stop: Optional[List[str]] = None) -> str:\n",
    "        inputs = self._tokenizer(prompt, return_tensors=\"pt\").to(self._model.device)\n",
    "        with torch.no_grad():\n",
    "            output = self._model.generate(\n",
    "                **inputs,\n",
    "                max_new_tokens=256,\n",
    "                do_sample=True,\n",
    "                temperature=0.7,\n",
    "                pad_token_id=self._tokenizer.eos_token_id\n",
    "            )\n",
    "        decoded = self._tokenizer.decode(output[0], skip_special_tokens=True)\n",
    "        return decoded[len(prompt):]"
   ]
  },
  {
   "cell_type": "code",
   "execution_count": 2,
   "id": "76e784ba",
   "metadata": {},
   "outputs": [
    {
     "name": "stderr",
     "output_type": "stream",
     "text": [
      "Loading checkpoint shards: 100%|██████████| 2/2 [00:04<00:00,  2.22s/it]\n",
      "C:\\Users\\habee\\AppData\\Local\\Temp\\ipykernel_29760\\513431656.py:21: LangChainDeprecationWarning: The class `LLMChain` was deprecated in LangChain 0.1.17 and will be removed in 1.0. Use :meth:`~RunnableSequence, e.g., `prompt | llm`` instead.\n",
      "  chain = LLMChain(llm=llm, prompt=fitness_prompt)\n"
     ]
    }
   ],
   "source": [
    "from langchain.prompts import PromptTemplate\n",
    "from langchain.chains import LLMChain\n",
    "\n",
    "llm = Phi2LLM(model_name=\"microsoft/phi-2\")\n",
    "\n",
    "fitness_prompt = PromptTemplate(\n",
    "    input_variables=[\"question\", \"user_profile\"],\n",
    "    template=\"\"\"\n",
    "You are a friendly fitness assistant. Use the user profile to give precise answers.\n",
    "\n",
    "User Profile:\n",
    "{user_profile}\n",
    "\n",
    "Question:\n",
    "{question}\n",
    "\n",
    "Answer in Portuguese, with practical tips on exercises, nutrition or workout planning.\n",
    "\"\"\"\n",
    ")\n",
    "\n",
    "chain = LLMChain(llm=llm, prompt=fitness_prompt)\n"
   ]
  },
  {
   "cell_type": "code",
   "execution_count": 3,
   "id": "2a01bf29",
   "metadata": {},
   "outputs": [
    {
     "name": "stderr",
     "output_type": "stream",
     "text": [
      "C:\\Users\\habee\\AppData\\Local\\Temp\\ipykernel_29760\\2709792694.py:4: LangChainDeprecationWarning: The method `Chain.run` was deprecated in langchain 0.1.0 and will be removed in 1.0. Use :meth:`~invoke` instead.\n",
      "  print(chain.run({\"question\": q1, \"user_profile\": profile}))\n",
      "c:\\Programming\\Github\\EngenheiroIA-contra-ataca\\venv\\Lib\\site-packages\\transformers\\integrations\\sdpa_attention.py:54: UserWarning: 1Torch was not compiled with flash attention. (Triggered internally at ..\\aten\\src\\ATen\\native\\transformers\\cuda\\sdp_utils.cpp:263.)\n",
      "  attn_output = torch.nn.functional.scaled_dot_product_attention(\n"
     ]
    },
    {
     "name": "stdout",
     "output_type": "stream",
     "text": [
      "## INPUT\n",
      "\n",
      "##OUTPUT\n",
      "Nosso assistente de fitness afirma que é importante desenvolver uma rotina de exercícios e alimentos práticos para atender ao objetivo de perder gordura na barriga. Para isso, podemos escolher exercícios com eficácia para barrigar como:\n",
      "\n",
      "1. Burras: Burras e técnicas de core ou mantejo da core é um melhor forma de perder gordura na barriga. Podemos trabalhar com eles por 10-15 minutos, com 5-10 burras repetitivos e 1-2 tempo limitado.\n",
      "2. Press: A press é um exercício que pode perder gordura na barriga e fortalece os músculos da pé. Podemos trabalhar com eles por 10-15 minutos, com 10-12 repetitivos e 1-2 tempo limitado.\n",
      "3. Lunges: Lunges é um exercício que\n"
     ]
    }
   ],
   "source": [
    "profile = \"Idade: 30 anos; Nível: iniciante; Objetivo: perder gordura abdominal.\"\n",
    "q1 = \"Quais exercícios são mais eficazes para queimar gordura na barriga?\"\n",
    "\n",
    "print(chain.run({\"question\": q1, \"user_profile\": profile}))\n"
   ]
  }
 ],
 "metadata": {
  "kernelspec": {
   "display_name": "venv",
   "language": "python",
   "name": "python3"
  },
  "language_info": {
   "codemirror_mode": {
    "name": "ipython",
    "version": 3
   },
   "file_extension": ".py",
   "mimetype": "text/x-python",
   "name": "python",
   "nbconvert_exporter": "python",
   "pygments_lexer": "ipython3",
   "version": "3.12.5"
  }
 },
 "nbformat": 4,
 "nbformat_minor": 5
}
